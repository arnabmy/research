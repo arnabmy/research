{
  "nbformat": 4,
  "nbformat_minor": 0,
  "metadata": {
    "colab": {
      "name": "PDF2Text.ipynb",
      "provenance": [],
      "authorship_tag": "ABX9TyM+oAwXwSbKos02W5pUs2Ct",
      "include_colab_link": true
    },
    "kernelspec": {
      "name": "python3",
      "display_name": "Python 3"
    },
    "language_info": {
      "name": "python"
    }
  },
  "cells": [
    {
      "cell_type": "markdown",
      "metadata": {
        "id": "view-in-github",
        "colab_type": "text"
      },
      "source": [
        "<a href=\"https://colab.research.google.com/github/arnabmy/research/blob/main/PDF2Text.ipynb\" target=\"_parent\"><img src=\"https://colab.research.google.com/assets/colab-badge.svg\" alt=\"Open In Colab\"/></a>"
      ]
    },
    {
      "cell_type": "code",
      "metadata": {
        "colab": {
          "base_uri": "https://localhost:8080/"
        },
        "id": "cpfOMl1GbhxH",
        "outputId": "4b0328b3-9564-406f-fd39-e2b3c8564726"
      },
      "source": [
        "!pip install PyPDF2"
      ],
      "execution_count": 1,
      "outputs": [
        {
          "output_type": "stream",
          "text": [
            "Collecting PyPDF2\n",
            "\u001b[?25l  Downloading https://files.pythonhosted.org/packages/b4/01/68fcc0d43daf4c6bdbc6b33cc3f77bda531c86b174cac56ef0ffdb96faab/PyPDF2-1.26.0.tar.gz (77kB)\n",
            "\r\u001b[K     |████▎                           | 10kB 16.2MB/s eta 0:00:01\r\u001b[K     |████████▌                       | 20kB 21.7MB/s eta 0:00:01\r\u001b[K     |████████████▊                   | 30kB 12.6MB/s eta 0:00:01\r\u001b[K     |█████████████████               | 40kB 9.5MB/s eta 0:00:01\r\u001b[K     |█████████████████████▏          | 51kB 7.2MB/s eta 0:00:01\r\u001b[K     |█████████████████████████▍      | 61kB 6.8MB/s eta 0:00:01\r\u001b[K     |█████████████████████████████▋  | 71kB 7.6MB/s eta 0:00:01\r\u001b[K     |████████████████████████████████| 81kB 4.6MB/s \n",
            "\u001b[?25hBuilding wheels for collected packages: PyPDF2\n",
            "  Building wheel for PyPDF2 (setup.py) ... \u001b[?25l\u001b[?25hdone\n",
            "  Created wheel for PyPDF2: filename=PyPDF2-1.26.0-cp37-none-any.whl size=61085 sha256=4d1c6160a3a137efb1edd929b0f3bb04c42e4e139a109cd8466880ccb93aed64\n",
            "  Stored in directory: /root/.cache/pip/wheels/53/84/19/35bc977c8bf5f0c23a8a011aa958acd4da4bbd7a229315c1b7\n",
            "Successfully built PyPDF2\n",
            "Installing collected packages: PyPDF2\n",
            "Successfully installed PyPDF2-1.26.0\n"
          ],
          "name": "stdout"
        }
      ]
    },
    {
      "cell_type": "code",
      "metadata": {
        "id": "daVaifotbmYy"
      },
      "source": [
        "# importing required modules \n",
        "import PyPDF2 "
      ],
      "execution_count": 2,
      "outputs": []
    },
    {
      "cell_type": "code",
      "metadata": {
        "id": "YWaq59WGbpqK"
      },
      "source": [
        "# creating a pdf file object \n",
        "pdfFileObj = open('/content/harvard-womens-health-watch-april-2019-harvard-health.pdf', 'rb') "
      ],
      "execution_count": 4,
      "outputs": []
    },
    {
      "cell_type": "code",
      "metadata": {
        "colab": {
          "base_uri": "https://localhost:8080/"
        },
        "id": "ttJRds-tcEMr",
        "outputId": "40eec8f4-1cae-4a08-9dc5-2437d1e7f110"
      },
      "source": [
        "# creating a pdf reader object \n",
        "pdfReader = PyPDF2.PdfFileReader(pdfFileObj) "
      ],
      "execution_count": 6,
      "outputs": [
        {
          "output_type": "stream",
          "text": [
            "PdfReadWarning: Xref table not zero-indexed. ID numbers for objects will be corrected. [pdf.py:1736]\n"
          ],
          "name": "stderr"
        }
      ]
    },
    {
      "cell_type": "code",
      "metadata": {
        "colab": {
          "base_uri": "https://localhost:8080/"
        },
        "id": "ujF6ymK3b4Mr",
        "outputId": "6737cad8-dbfb-45a2-f4b1-e0f3ae05c901"
      },
      "source": [
        "# printing number of pages in pdf file \n",
        "print(pdfReader.numPages) "
      ],
      "execution_count": 7,
      "outputs": [
        {
          "output_type": "stream",
          "text": [
            "8\n"
          ],
          "name": "stdout"
        }
      ]
    },
    {
      "cell_type": "code",
      "metadata": {
        "id": "hO-xu3Etb_rD"
      },
      "source": [
        "# creating a page object \n",
        "pageObj = pdfReader.getPage(0) "
      ],
      "execution_count": 8,
      "outputs": []
    },
    {
      "cell_type": "code",
      "metadata": {
        "colab": {
          "base_uri": "https://localhost:8080/"
        },
        "id": "LAxzOo85cI06",
        "outputId": "1066c6cd-e386-41fc-91d2-9a35545ba7ec"
      },
      "source": [
        "# extracting text from page \n",
        "print(pageObj.extractText()) "
      ],
      "execution_count": 9,
      "outputs": [
        {
          "output_type": "stream",
          "text": [
            "Feeling the burn? Antacids can provide \n",
            "some reliefBut these remedies aren™t the best choice if you have \n",
            "frequent˜heartburn. \n",
            "You feel the familiar sen\n",
            "-sation in your chest: \n",
            "heartburn. Again, you ˜nd \n",
            "yourself reaching for the \n",
            "bottle of antacids in the \n",
            "medicine cabinet. It™s some\n",
            "-thing you™ve done a few \n",
            "times a week for the past six \n",
            "months. Is it okay to keep \n",
            "popping over-the-counter \n",
            "acid reducers, or is it time to \n",
            "see a doctor? \n",
            "We asked two experts, \n",
            "Dr. Jennifer Nayor and Dr. \n",
            "Molly Linn Perencevich, both instructors \n",
            "in medicine at Harvard Medical School, for \n",
            "their thoughts on heartburn, including when \n",
            "it™s okay to use over-the-counter antacids \n",
            "and when you should seek other treatments. \n",
            "Below are their responses.\n",
            "QWhat are over-the-counter antacids de\n",
            "-signed to do, and how should they be used? \n",
            "Dr. Perencevich:\n",
            " Antacids are designed to \n",
            "decrease acidity in the stomach. ˚ere are \n",
            "two main types of antacids. ˚e ˜rst group \n",
            "includes antacids that contain calcium car\n",
            "-bonate, such as Tums; sodium bicarbon\n",
            "-ate, like Alka-Seltzer; magnesium trisilicate, \n",
            "like Gaviscon; or aluminum hydroxide, like \n",
            "Maalox. ˚ese all work by neutralizing acid \n",
            "in the stomach. ˚ey tend to work quickly to \n",
            "relieve heartburn. \n",
            "˚e second group includes H2 blockers, \n",
            "such as famotidine (Pepcid), and proton-\n",
            "pump inhibitors, or PPIs, such as omepra\n",
            "-zole (Prilosec), which work by decreasing \n",
            "acid secretion from the stomach. ˚ese take \n",
            "more time to work, but the \n",
            "e˛ects last much longer.\n",
            "˚e most common rea\n",
            "-sons that people use over-\n",
            "the-counter antacids are \n",
            "to help with heartburn or \n",
            "indigestion, o˝en caused \n",
            "by gastroesophageal re˙ux \n",
            "disease (GERD). Your \n",
            "doctor may also recom\n",
            "-mend them for treating \n",
            "ulcers or in˙ammation in \n",
            "the esophagus, the stom\n",
            "-ach, or the beginning of \n",
            "the small intestine. ˚ey generally won™t help \n",
            "to relieve lower abdominal pain, diarrhea, or \n",
            "constipation.\n",
            "QWhat are the potential dangers of using \n",
            "antacids improperly? \n",
            "Dr. Perencevich:\n",
            " Using antacids improp\n",
            "-erly might lead to undertreating symptoms \n",
            "or missing a more serious condition. For \n",
            "example, people with GERD can develop \n",
            "in˙ammation of the esophagus, called esoph\n",
            "-agitis, which can cause bleeding, or a nar\n",
            "-rowing of the esophagus, called a stricture, \n",
            "which makes it diˆcult to swallow. Less com\n",
            "-monly, they can develop Barrett™s esophagus, \n",
            "a precancerous condition caused by chronic \n",
            "in˙ammation, or esophageal cancer. \n",
            "People with upper abdominal pain could \n",
            "have a stomach ulcer or an issue not related to \n",
            "acid, such as gallstones, a pancreas problem, \n",
            "or more rarely, stomach cancer. In addition, \n",
            "discomfort in the chest could actually be due \n",
            "to a serious heart condition. \n",
            "continued on p.7 INSIDE\n",
            "Ask the doctors\n",
            " ...........2 Can I prevent diverticulitis?\n",
            " Does the weather affect \n",
            "arthritis˜pain? \n",
            "Needling your skin?\n",
            " ........3Microneedling sounds strange\n",
            " but it™s now a mainstream \n",
            "skin˜treatment.\n",
            "Omega-3 supplements\n",
            " .....4Most healthy people™s hearts \n",
            "probably won™t bene˚t from an \n",
            "omega-3 supplement.\n",
            "Walk back to think back\n",
            " ....6Forgot something? Walking backward \n",
            "may help you remember. \n",
            "Research we™re watching\n",
            " ....8 High-˚ber diet may protect \n",
            "your˜heart\n",
            " Arthritis-related bumps on ˚ngers \n",
            "may signal knee problems\n",
            " Poor sleep linked to arterial buildup\n",
            "FIVE THINGS TO \n",
            " DO THIS MONTH\n",
            "1Drink more water. \n",
            "It may prevent \n",
            "diverticulitis. \n",
            "(page 2)\n",
            "2Check your omega-3 intake. \n",
            "Dietary sources include fatty ˚sh \n",
            "like salmon and tuna. \n",
            "(page 4)\n",
            "3Walk backward. \n",
            "It might help your short-term memory. \n",
            "(page 6)\n",
            "4Eat more ˜ber. \n",
            "It can keep your \n",
            "heart healthy. \n",
            "(page 8)\n",
            "5 Take your sleep seriously. \n",
            "Poor \n",
            "sleep is linked to clogged \n",
            "arteries. \n",
            "(page 8)\n",
            "© Tharakorn | Getty Images\n",
            "Antacids can help ease heartburn pain, \n",
            "but consult your doctor if the problem \n",
            "continues.FROM HARVARD MEDICAL SCHOOL\n",
            "Starting to Exercise: \n",
            "Workouts \n",
            "to help you get ˜t, ˜rm, and ˚exible\n",
            "www.health.harvard.edu/˚t12 \n",
            "VOLUME 26 \n",
            " NUMBER 8\n",
            "  APRIL 2019\n"
          ],
          "name": "stdout"
        }
      ]
    },
    {
      "cell_type": "code",
      "metadata": {
        "id": "k39juPm5cLDu"
      },
      "source": [
        "# closing the pdf file object \n",
        "pdfFileObj.close() "
      ],
      "execution_count": 10,
      "outputs": []
    },
    {
      "cell_type": "code",
      "metadata": {
        "id": "aFYJSJ7qcSQq"
      },
      "source": [
        ""
      ],
      "execution_count": null,
      "outputs": []
    }
  ]
}